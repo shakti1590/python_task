{
  "nbformat": 4,
  "nbformat_minor": 0,
  "metadata": {
    "colab": {
      "provenance": [],
      "authorship_tag": "ABX9TyPZoViagxIHHLCbPBs9U4T7",
      "include_colab_link": true
    },
    "kernelspec": {
      "name": "python3",
      "display_name": "Python 3"
    },
    "language_info": {
      "name": "python"
    }
  },
  "cells": [
    {
      "cell_type": "markdown",
      "metadata": {
        "id": "view-in-github",
        "colab_type": "text"
      },
      "source": [
        "<a href=\"https://colab.research.google.com/github/shakti1590/python_task/blob/main/scrapping.ipynb\" target=\"_parent\"><img src=\"https://colab.research.google.com/assets/colab-badge.svg\" alt=\"Open In Colab\"/></a>"
      ]
    },
    {
      "cell_type": "code",
      "execution_count": null,
      "metadata": {
        "id": "osy4QSnW913F"
      },
      "outputs": [],
      "source": [
        "import json\n",
        "from bs4 import BeautifulSoup\n",
        "import pandas as pd\n",
        "import requests\n",
        "\n",
        "excel_file = 'data.xlsx'\n",
        "data_frame = pd.read_excel(excel_file)\n",
        "scraped_data = []\n",
        "for index, row in data_frame.iterrows():\n",
        "    url = f\"https://www.amazon.{row['country']}/dp/{row['asin']}\"\n",
        "\n",
        "    try:\n",
        "        response = requests.get(url)\n",
        "        if response.status_code == 404:\n",
        "            print(f\"{url} not available\")\n",
        "            continue\n",
        "\n",
        "        soup = BeautifulSoup(response.text, 'html.parser')\n",
        "\n",
        "        product_title = soup.find('span', {'id': 'productTitle'}).get_text().strip()\n",
        "        product_image_url = soup.find('img', {'id': 'landingImage'})['src']\n",
        "        product_price = soup.find('span', {'id': 'priceblock_ourprice'}).get_text().strip()\n",
        "        product_details = []\n",
        "        for li in soup.find_all('li', {'class': 'a-list-item'}):\n",
        "            product_details.append(li.get_text().strip())\n",
        "        product_data = {\n",
        "            'url': url,\n",
        "            'title': product_title,\n",
        "            'image_url': product_image_url,\n",
        "            'price': product_price,\n",
        "            'details': product_details\n",
        "        }\n",
        "\n",
        "        scraped_data.append(product_data)\n",
        "        print(f\"Scraped data for {url}\")\n",
        "\n",
        "    except Exception as e:\n",
        "        print(f\"Error scraping {url}: {e}\")\n",
        "        continue\n",
        "with open('scraped_data.json', 'w') as json_file:\n",
        "    json.dump(scraped_data, json_file, indent=4)\n"
      ]
    }
  ]
}